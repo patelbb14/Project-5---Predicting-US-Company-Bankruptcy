{
 "cells": [
  {
   "cell_type": "code",
   "execution_count": 1,
   "id": "6caf7c93",
   "metadata": {},
   "outputs": [],
   "source": [
    "# Imports\n",
    "import numpy as np\n",
    "import pandas as pd\n",
    "import matplotlib.pyplot as plt\n",
    "import matplotlib.ticker as ticker\n",
    "import seaborn as sns\n",
    "\n",
    "from sklearn.ensemble import RandomForestClassifier\n",
    "from sklearn.model_selection import train_test_split, GridSearchCV, RandomizedSearchCV\n",
    "from sklearn.metrics import accuracy_score, confusion_matrix\n",
    "\n",
    "\n",
    "from sklearn.preprocessing import StandardScaler\n",
    "from sklearn.svm import SVC\n",
    "from sklearn.pipeline import Pipeline\n",
    "\n",
    "import xgboost as xgb\n",
    "\n",
    "from tensorflow.keras.models import Sequential\n",
    "from tensorflow.keras.layers import Dense, Dropout\n",
    "from tensorflow.keras.optimizers import Adam\n",
    "from tensorflow.keras.callbacks import EarlyStopping\n",
    "from tensorflow.keras.layers import BatchNormalization\n",
    "from tensorflow.keras.callbacks import ReduceLROnPlateau"
   ]
  },
  {
   "cell_type": "code",
   "execution_count": 26,
   "id": "a9009f63",
   "metadata": {},
   "outputs": [],
   "source": [
    "# Read data\n",
    "df = pd.read_csv('data_models/american_bankruptcy.csv')"
   ]
  },
  {
   "cell_type": "code",
   "execution_count": 27,
   "id": "78e59c4f-0fb5-41b5-a373-e571dc8e75f4",
   "metadata": {},
   "outputs": [],
   "source": [
    "df['status_label'] = np.where(df['status_label'] == 'alive', 1, 0)"
   ]
  },
  {
   "cell_type": "code",
   "execution_count": 28,
   "id": "87678191-e17a-438c-b00b-a30b978c439d",
   "metadata": {},
   "outputs": [
    {
     "data": {
      "text/plain": [
       "status_label\n",
       "1    73462\n",
       "0     5220\n",
       "Name: count, dtype: int64"
      ]
     },
     "execution_count": 28,
     "metadata": {},
     "output_type": "execute_result"
    }
   ],
   "source": [
    "df['status_label'].value_counts()"
   ]
  },
  {
   "cell_type": "code",
   "execution_count": 29,
   "id": "453c7cef-4c42-47c2-8090-22c3cbd4a00a",
   "metadata": {},
   "outputs": [],
   "source": [
    "# Define X and y\n",
    "X=df.drop(columns=['company_name','status_label','year'])\n",
    "y=df['status_label']"
   ]
  },
  {
   "cell_type": "code",
   "execution_count": 30,
   "id": "98a84f2c-0a54-4a5b-9405-0b44d1471dce",
   "metadata": {},
   "outputs": [],
   "source": [
    "# Train-test split\n",
    "X_train, X_test, y_train, y_test = train_test_split(X, y, test_size=0.25, random_state=666, stratify=y)"
   ]
  },
  {
   "cell_type": "code",
   "execution_count": 31,
   "id": "03933111-96f7-4f1e-bfab-890c44360119",
   "metadata": {},
   "outputs": [
    {
     "data": {
      "text/plain": [
       "0.9336569990595054"
      ]
     },
     "execution_count": 31,
     "metadata": {},
     "output_type": "execute_result"
    }
   ],
   "source": [
    "# Baseline prediction\n",
    "y.mean()"
   ]
  },
  {
   "cell_type": "code",
   "execution_count": 32,
   "id": "f2966725-3414-4ad5-a832-92f291f67dd5",
   "metadata": {},
   "outputs": [],
   "source": [
    "# Correct class imbalances\n",
    "\n",
    "# combine in a single dataframe\n",
    "train_data = pd.concat([X_train, y_train], axis=1) \n",
    "\n",
    "# Separate the classes\n",
    "class_0 = train_data[train_data[y_train.name] == 0] \n",
    "class_1 = train_data[train_data[y_train.name] == 1]\n",
    "\n",
    "# Oversample y==0\n",
    "class_0_oversampled = class_0.sample(len(class_1), replace=True, random_state=666)\n",
    "\n",
    "# Combine balanced classes in a single dataframe\n",
    "train_data_resampled = pd.concat([class_0_oversampled, class_1], axis=0)\n",
    "\n",
    "#Shuffle the dataframe\n",
    "train_data_resampled = train_data_resampled.sample(frac=1, random_state=666)"
   ]
  },
  {
   "cell_type": "code",
   "execution_count": 33,
   "id": "08d693eb-437a-4b49-bb2d-b0cc1522a2a2",
   "metadata": {},
   "outputs": [
    {
     "data": {
      "text/plain": [
       "status_label\n",
       "1    55096\n",
       "0    55096\n",
       "Name: count, dtype: int64"
      ]
     },
     "execution_count": 33,
     "metadata": {},
     "output_type": "execute_result"
    }
   ],
   "source": [
    "# Define new X and y variables after balancing classes\n",
    "\n",
    "X_train_res = train_data_resampled.drop(y_train.name, axis=1)\n",
    "\n",
    "y_train_res = train_data_resampled[y_train.name].astype('int64')\n",
    "\n",
    "y_train_res.value_counts()"
   ]
  },
  {
   "cell_type": "markdown",
   "id": "05e34195-80a1-4592-bea9-71881145d063",
   "metadata": {},
   "source": [
    "# **Prediction Models**"
   ]
  },
  {
   "cell_type": "markdown",
   "id": "d10034f2-dfda-481e-85fa-6c3e15cec17e",
   "metadata": {},
   "source": [
    "## Random Forest"
   ]
  },
  {
   "cell_type": "code",
   "execution_count": 25,
   "id": "10e9b36f-f591-4a48-b9f5-c54b251f8a42",
   "metadata": {},
   "outputs": [],
   "source": [
    "p = X_train_res.shape[1]\n",
    "\n",
    "params = {\n",
    "    'max_depth': np.append(np.arange(1, 12), None),\n",
    "    'max_features': np.arange(1, p + 1),\n",
    "    'min_samples_leaf': np.arange(1, 31)\n",
    "}\n",
    "\n",
    "rf = RandomForestClassifier(n_estimators=100, random_state=666)\n",
    "rs = RandomizedSearchCV(rf, params, n_iter=100, cv=5, scoring='accuracy', n_jobs=8, random_state=666)"
   ]
  },
  {
   "cell_type": "code",
   "execution_count": 27,
   "id": "8e97dbfe-9723-458f-9076-31c14e38ecd9",
   "metadata": {},
   "outputs": [
    {
     "name": "stdout",
     "output_type": "stream",
     "text": [
      "CPU times: user 43.3 s, sys: 1.17 s, total: 44.5 s\n",
      "Wall time: 31min 35s\n"
     ]
    },
    {
     "data": {
      "text/html": [
       "<style>#sk-container-id-1 {color: black;}#sk-container-id-1 pre{padding: 0;}#sk-container-id-1 div.sk-toggleable {background-color: white;}#sk-container-id-1 label.sk-toggleable__label {cursor: pointer;display: block;width: 100%;margin-bottom: 0;padding: 0.3em;box-sizing: border-box;text-align: center;}#sk-container-id-1 label.sk-toggleable__label-arrow:before {content: \"▸\";float: left;margin-right: 0.25em;color: #696969;}#sk-container-id-1 label.sk-toggleable__label-arrow:hover:before {color: black;}#sk-container-id-1 div.sk-estimator:hover label.sk-toggleable__label-arrow:before {color: black;}#sk-container-id-1 div.sk-toggleable__content {max-height: 0;max-width: 0;overflow: hidden;text-align: left;background-color: #f0f8ff;}#sk-container-id-1 div.sk-toggleable__content pre {margin: 0.2em;color: black;border-radius: 0.25em;background-color: #f0f8ff;}#sk-container-id-1 input.sk-toggleable__control:checked~div.sk-toggleable__content {max-height: 200px;max-width: 100%;overflow: auto;}#sk-container-id-1 input.sk-toggleable__control:checked~label.sk-toggleable__label-arrow:before {content: \"▾\";}#sk-container-id-1 div.sk-estimator input.sk-toggleable__control:checked~label.sk-toggleable__label {background-color: #d4ebff;}#sk-container-id-1 div.sk-label input.sk-toggleable__control:checked~label.sk-toggleable__label {background-color: #d4ebff;}#sk-container-id-1 input.sk-hidden--visually {border: 0;clip: rect(1px 1px 1px 1px);clip: rect(1px, 1px, 1px, 1px);height: 1px;margin: -1px;overflow: hidden;padding: 0;position: absolute;width: 1px;}#sk-container-id-1 div.sk-estimator {font-family: monospace;background-color: #f0f8ff;border: 1px dotted black;border-radius: 0.25em;box-sizing: border-box;margin-bottom: 0.5em;}#sk-container-id-1 div.sk-estimator:hover {background-color: #d4ebff;}#sk-container-id-1 div.sk-parallel-item::after {content: \"\";width: 100%;border-bottom: 1px solid gray;flex-grow: 1;}#sk-container-id-1 div.sk-label:hover label.sk-toggleable__label {background-color: #d4ebff;}#sk-container-id-1 div.sk-serial::before {content: \"\";position: absolute;border-left: 1px solid gray;box-sizing: border-box;top: 0;bottom: 0;left: 50%;z-index: 0;}#sk-container-id-1 div.sk-serial {display: flex;flex-direction: column;align-items: center;background-color: white;padding-right: 0.2em;padding-left: 0.2em;position: relative;}#sk-container-id-1 div.sk-item {position: relative;z-index: 1;}#sk-container-id-1 div.sk-parallel {display: flex;align-items: stretch;justify-content: center;background-color: white;position: relative;}#sk-container-id-1 div.sk-item::before, #sk-container-id-1 div.sk-parallel-item::before {content: \"\";position: absolute;border-left: 1px solid gray;box-sizing: border-box;top: 0;bottom: 0;left: 50%;z-index: -1;}#sk-container-id-1 div.sk-parallel-item {display: flex;flex-direction: column;z-index: 1;position: relative;background-color: white;}#sk-container-id-1 div.sk-parallel-item:first-child::after {align-self: flex-end;width: 50%;}#sk-container-id-1 div.sk-parallel-item:last-child::after {align-self: flex-start;width: 50%;}#sk-container-id-1 div.sk-parallel-item:only-child::after {width: 0;}#sk-container-id-1 div.sk-dashed-wrapped {border: 1px dashed gray;margin: 0 0.4em 0.5em 0.4em;box-sizing: border-box;padding-bottom: 0.4em;background-color: white;}#sk-container-id-1 div.sk-label label {font-family: monospace;font-weight: bold;display: inline-block;line-height: 1.2em;}#sk-container-id-1 div.sk-label-container {text-align: center;}#sk-container-id-1 div.sk-container {/* jupyter's `normalize.less` sets `[hidden] { display: none; }` but bootstrap.min.css set `[hidden] { display: none !important; }` so we also need the `!important` here to be able to override the default hidden behavior on the sphinx rendered scikit-learn.org. See: https://github.com/scikit-learn/scikit-learn/issues/21755 */display: inline-block !important;position: relative;}#sk-container-id-1 div.sk-text-repr-fallback {display: none;}</style><div id=\"sk-container-id-1\" class=\"sk-top-container\"><div class=\"sk-text-repr-fallback\"><pre>RandomizedSearchCV(cv=5, estimator=RandomForestClassifier(random_state=666),\n",
       "                   n_iter=100, n_jobs=8,\n",
       "                   param_distributions={&#x27;max_depth&#x27;: array([1, 2, 3, 4, 5, 6, 7, 8, 9, 10, 11, None], dtype=object),\n",
       "                                        &#x27;max_features&#x27;: array([ 1,  2,  3,  4,  5,  6,  7,  8,  9, 10, 11, 12, 13, 14, 15, 16, 17,\n",
       "       18]),\n",
       "                                        &#x27;min_samples_leaf&#x27;: array([ 1,  2,  3,  4,  5,  6,  7,  8,  9, 10, 11, 12, 13, 14, 15, 16, 17,\n",
       "       18, 19, 20, 21, 22, 23, 24, 25, 26, 27, 28, 29, 30])},\n",
       "                   random_state=666, scoring=&#x27;accuracy&#x27;)</pre><b>In a Jupyter environment, please rerun this cell to show the HTML representation or trust the notebook. <br />On GitHub, the HTML representation is unable to render, please try loading this page with nbviewer.org.</b></div><div class=\"sk-container\" hidden><div class=\"sk-item sk-dashed-wrapped\"><div class=\"sk-label-container\"><div class=\"sk-label sk-toggleable\"><input class=\"sk-toggleable__control sk-hidden--visually\" id=\"sk-estimator-id-1\" type=\"checkbox\" ><label for=\"sk-estimator-id-1\" class=\"sk-toggleable__label sk-toggleable__label-arrow\">RandomizedSearchCV</label><div class=\"sk-toggleable__content\"><pre>RandomizedSearchCV(cv=5, estimator=RandomForestClassifier(random_state=666),\n",
       "                   n_iter=100, n_jobs=8,\n",
       "                   param_distributions={&#x27;max_depth&#x27;: array([1, 2, 3, 4, 5, 6, 7, 8, 9, 10, 11, None], dtype=object),\n",
       "                                        &#x27;max_features&#x27;: array([ 1,  2,  3,  4,  5,  6,  7,  8,  9, 10, 11, 12, 13, 14, 15, 16, 17,\n",
       "       18]),\n",
       "                                        &#x27;min_samples_leaf&#x27;: array([ 1,  2,  3,  4,  5,  6,  7,  8,  9, 10, 11, 12, 13, 14, 15, 16, 17,\n",
       "       18, 19, 20, 21, 22, 23, 24, 25, 26, 27, 28, 29, 30])},\n",
       "                   random_state=666, scoring=&#x27;accuracy&#x27;)</pre></div></div></div><div class=\"sk-parallel\"><div class=\"sk-parallel-item\"><div class=\"sk-item\"><div class=\"sk-label-container\"><div class=\"sk-label sk-toggleable\"><input class=\"sk-toggleable__control sk-hidden--visually\" id=\"sk-estimator-id-2\" type=\"checkbox\" ><label for=\"sk-estimator-id-2\" class=\"sk-toggleable__label sk-toggleable__label-arrow\">estimator: RandomForestClassifier</label><div class=\"sk-toggleable__content\"><pre>RandomForestClassifier(random_state=666)</pre></div></div></div><div class=\"sk-serial\"><div class=\"sk-item\"><div class=\"sk-estimator sk-toggleable\"><input class=\"sk-toggleable__control sk-hidden--visually\" id=\"sk-estimator-id-3\" type=\"checkbox\" ><label for=\"sk-estimator-id-3\" class=\"sk-toggleable__label sk-toggleable__label-arrow\">RandomForestClassifier</label><div class=\"sk-toggleable__content\"><pre>RandomForestClassifier(random_state=666)</pre></div></div></div></div></div></div></div></div></div></div>"
      ],
      "text/plain": [
       "RandomizedSearchCV(cv=5, estimator=RandomForestClassifier(random_state=666),\n",
       "                   n_iter=100, n_jobs=8,\n",
       "                   param_distributions={'max_depth': array([1, 2, 3, 4, 5, 6, 7, 8, 9, 10, 11, None], dtype=object),\n",
       "                                        'max_features': array([ 1,  2,  3,  4,  5,  6,  7,  8,  9, 10, 11, 12, 13, 14, 15, 16, 17,\n",
       "       18]),\n",
       "                                        'min_samples_leaf': array([ 1,  2,  3,  4,  5,  6,  7,  8,  9, 10, 11, 12, 13, 14, 15, 16, 17,\n",
       "       18, 19, 20, 21, 22, 23, 24, 25, 26, 27, 28, 29, 30])},\n",
       "                   random_state=666, scoring='accuracy')"
      ]
     },
     "execution_count": 27,
     "metadata": {},
     "output_type": "execute_result"
    }
   ],
   "source": [
    "%%time\n",
    "# rs.fit(X_train_res, y_train_res) # only run if necessary"
   ]
  },
  {
   "cell_type": "code",
   "execution_count": 28,
   "id": "2cba7173-d88e-40e1-97e2-248be1abfb1c",
   "metadata": {},
   "outputs": [
    {
     "name": "stdout",
     "output_type": "stream",
     "text": [
      "Best parameters: {'min_samples_leaf': 5, 'max_features': 8, 'max_depth': None}\n",
      "Best score: 0.992159134805376\n"
     ]
    }
   ],
   "source": [
    "print(\"Best parameters:\", rs.best_params_)\n",
    "print(\"Best score:\", rs.best_score_)"
   ]
  },
  {
   "cell_type": "code",
   "execution_count": 31,
   "id": "84477d1d-80b8-47b6-8729-b764f4ef33b9",
   "metadata": {},
   "outputs": [
    {
     "name": "stdout",
     "output_type": "stream",
     "text": [
      "Test set accuracy: 0.9407\n"
     ]
    }
   ],
   "source": [
    "# Test the model\n",
    "best_rf = RandomForestClassifier(**rs.best_params_, random_state=666)\n",
    "best_rf.fit(X_train_res, y_train_res)\n",
    "\n",
    "y_pred_rf = best_rf.predict(X_test)\n",
    "\n",
    "test_accuracy = accuracy_score(y_test, y_pred_rf)\n",
    "\n",
    "print(f\"Test set accuracy: {test_accuracy:.4f}\")"
   ]
  },
  {
   "cell_type": "code",
   "execution_count": 33,
   "id": "78dcf1a6-6a7f-4b93-abe3-192d5d6003b4",
   "metadata": {},
   "outputs": [
    {
     "data": {
      "text/plain": [
       "0.933658685374409"
      ]
     },
     "execution_count": 33,
     "metadata": {},
     "output_type": "execute_result"
    }
   ],
   "source": [
    "y_test.mean()"
   ]
  },
  {
   "cell_type": "markdown",
   "id": "4e62c26e-399c-47b7-be18-cc2b6afa6af5",
   "metadata": {},
   "source": [
    "## XGBoost"
   ]
  },
  {
   "cell_type": "code",
   "execution_count": 35,
   "id": "3f03269e-fe03-48d2-aba8-6962f7231de4",
   "metadata": {},
   "outputs": [
    {
     "name": "stderr",
     "output_type": "stream",
     "text": [
      "/Users/juanpena/anaconda3/lib/python3.11/site-packages/joblib/externals/loky/process_executor.py:700: UserWarning: A worker stopped while some jobs were given to the executor. This can be caused by a too short worker timeout or by a memory leak.\n",
      "  warnings.warn(\n"
     ]
    },
    {
     "data": {
      "text/html": [
       "<style>#sk-container-id-2 {color: black;}#sk-container-id-2 pre{padding: 0;}#sk-container-id-2 div.sk-toggleable {background-color: white;}#sk-container-id-2 label.sk-toggleable__label {cursor: pointer;display: block;width: 100%;margin-bottom: 0;padding: 0.3em;box-sizing: border-box;text-align: center;}#sk-container-id-2 label.sk-toggleable__label-arrow:before {content: \"▸\";float: left;margin-right: 0.25em;color: #696969;}#sk-container-id-2 label.sk-toggleable__label-arrow:hover:before {color: black;}#sk-container-id-2 div.sk-estimator:hover label.sk-toggleable__label-arrow:before {color: black;}#sk-container-id-2 div.sk-toggleable__content {max-height: 0;max-width: 0;overflow: hidden;text-align: left;background-color: #f0f8ff;}#sk-container-id-2 div.sk-toggleable__content pre {margin: 0.2em;color: black;border-radius: 0.25em;background-color: #f0f8ff;}#sk-container-id-2 input.sk-toggleable__control:checked~div.sk-toggleable__content {max-height: 200px;max-width: 100%;overflow: auto;}#sk-container-id-2 input.sk-toggleable__control:checked~label.sk-toggleable__label-arrow:before {content: \"▾\";}#sk-container-id-2 div.sk-estimator input.sk-toggleable__control:checked~label.sk-toggleable__label {background-color: #d4ebff;}#sk-container-id-2 div.sk-label input.sk-toggleable__control:checked~label.sk-toggleable__label {background-color: #d4ebff;}#sk-container-id-2 input.sk-hidden--visually {border: 0;clip: rect(1px 1px 1px 1px);clip: rect(1px, 1px, 1px, 1px);height: 1px;margin: -1px;overflow: hidden;padding: 0;position: absolute;width: 1px;}#sk-container-id-2 div.sk-estimator {font-family: monospace;background-color: #f0f8ff;border: 1px dotted black;border-radius: 0.25em;box-sizing: border-box;margin-bottom: 0.5em;}#sk-container-id-2 div.sk-estimator:hover {background-color: #d4ebff;}#sk-container-id-2 div.sk-parallel-item::after {content: \"\";width: 100%;border-bottom: 1px solid gray;flex-grow: 1;}#sk-container-id-2 div.sk-label:hover label.sk-toggleable__label {background-color: #d4ebff;}#sk-container-id-2 div.sk-serial::before {content: \"\";position: absolute;border-left: 1px solid gray;box-sizing: border-box;top: 0;bottom: 0;left: 50%;z-index: 0;}#sk-container-id-2 div.sk-serial {display: flex;flex-direction: column;align-items: center;background-color: white;padding-right: 0.2em;padding-left: 0.2em;position: relative;}#sk-container-id-2 div.sk-item {position: relative;z-index: 1;}#sk-container-id-2 div.sk-parallel {display: flex;align-items: stretch;justify-content: center;background-color: white;position: relative;}#sk-container-id-2 div.sk-item::before, #sk-container-id-2 div.sk-parallel-item::before {content: \"\";position: absolute;border-left: 1px solid gray;box-sizing: border-box;top: 0;bottom: 0;left: 50%;z-index: -1;}#sk-container-id-2 div.sk-parallel-item {display: flex;flex-direction: column;z-index: 1;position: relative;background-color: white;}#sk-container-id-2 div.sk-parallel-item:first-child::after {align-self: flex-end;width: 50%;}#sk-container-id-2 div.sk-parallel-item:last-child::after {align-self: flex-start;width: 50%;}#sk-container-id-2 div.sk-parallel-item:only-child::after {width: 0;}#sk-container-id-2 div.sk-dashed-wrapped {border: 1px dashed gray;margin: 0 0.4em 0.5em 0.4em;box-sizing: border-box;padding-bottom: 0.4em;background-color: white;}#sk-container-id-2 div.sk-label label {font-family: monospace;font-weight: bold;display: inline-block;line-height: 1.2em;}#sk-container-id-2 div.sk-label-container {text-align: center;}#sk-container-id-2 div.sk-container {/* jupyter's `normalize.less` sets `[hidden] { display: none; }` but bootstrap.min.css set `[hidden] { display: none !important; }` so we also need the `!important` here to be able to override the default hidden behavior on the sphinx rendered scikit-learn.org. See: https://github.com/scikit-learn/scikit-learn/issues/21755 */display: inline-block !important;position: relative;}#sk-container-id-2 div.sk-text-repr-fallback {display: none;}</style><div id=\"sk-container-id-2\" class=\"sk-top-container\"><div class=\"sk-text-repr-fallback\"><pre>RandomizedSearchCV(cv=5,\n",
       "                   estimator=XGBClassifier(base_score=None, booster=None,\n",
       "                                           callbacks=None,\n",
       "                                           colsample_bylevel=None,\n",
       "                                           colsample_bynode=None,\n",
       "                                           colsample_bytree=None, device=None,\n",
       "                                           early_stopping_rounds=None,\n",
       "                                           enable_categorical=False,\n",
       "                                           eval_metric=&#x27;logloss&#x27;,\n",
       "                                           feature_types=None, gamma=None,\n",
       "                                           grow_policy=None,\n",
       "                                           importance_type=None,\n",
       "                                           interaction_constraints=None,\n",
       "                                           learning...\n",
       "                                           monotone_constraints=None,\n",
       "                                           multi_strategy=None,\n",
       "                                           n_estimators=None, n_jobs=None,\n",
       "                                           num_parallel_tree=None,\n",
       "                                           random_state=666, ...),\n",
       "                   n_iter=50, n_jobs=8,\n",
       "                   param_distributions={&#x27;colsample_bytree&#x27;: [0.8, 0.9, 1],\n",
       "                                        &#x27;learning_rate&#x27;: [0.01, 0.05, 0.1, 0.2],\n",
       "                                        &#x27;max_depth&#x27;: array([3, 4, 5, 6, 7, 8, 9]),\n",
       "                                        &#x27;n_estimators&#x27;: [100, 200, 300],\n",
       "                                        &#x27;subsample&#x27;: [0.8, 0.9, 1]},\n",
       "                   random_state=666, scoring=&#x27;accuracy&#x27;)</pre><b>In a Jupyter environment, please rerun this cell to show the HTML representation or trust the notebook. <br />On GitHub, the HTML representation is unable to render, please try loading this page with nbviewer.org.</b></div><div class=\"sk-container\" hidden><div class=\"sk-item sk-dashed-wrapped\"><div class=\"sk-label-container\"><div class=\"sk-label sk-toggleable\"><input class=\"sk-toggleable__control sk-hidden--visually\" id=\"sk-estimator-id-4\" type=\"checkbox\" ><label for=\"sk-estimator-id-4\" class=\"sk-toggleable__label sk-toggleable__label-arrow\">RandomizedSearchCV</label><div class=\"sk-toggleable__content\"><pre>RandomizedSearchCV(cv=5,\n",
       "                   estimator=XGBClassifier(base_score=None, booster=None,\n",
       "                                           callbacks=None,\n",
       "                                           colsample_bylevel=None,\n",
       "                                           colsample_bynode=None,\n",
       "                                           colsample_bytree=None, device=None,\n",
       "                                           early_stopping_rounds=None,\n",
       "                                           enable_categorical=False,\n",
       "                                           eval_metric=&#x27;logloss&#x27;,\n",
       "                                           feature_types=None, gamma=None,\n",
       "                                           grow_policy=None,\n",
       "                                           importance_type=None,\n",
       "                                           interaction_constraints=None,\n",
       "                                           learning...\n",
       "                                           monotone_constraints=None,\n",
       "                                           multi_strategy=None,\n",
       "                                           n_estimators=None, n_jobs=None,\n",
       "                                           num_parallel_tree=None,\n",
       "                                           random_state=666, ...),\n",
       "                   n_iter=50, n_jobs=8,\n",
       "                   param_distributions={&#x27;colsample_bytree&#x27;: [0.8, 0.9, 1],\n",
       "                                        &#x27;learning_rate&#x27;: [0.01, 0.05, 0.1, 0.2],\n",
       "                                        &#x27;max_depth&#x27;: array([3, 4, 5, 6, 7, 8, 9]),\n",
       "                                        &#x27;n_estimators&#x27;: [100, 200, 300],\n",
       "                                        &#x27;subsample&#x27;: [0.8, 0.9, 1]},\n",
       "                   random_state=666, scoring=&#x27;accuracy&#x27;)</pre></div></div></div><div class=\"sk-parallel\"><div class=\"sk-parallel-item\"><div class=\"sk-item\"><div class=\"sk-label-container\"><div class=\"sk-label sk-toggleable\"><input class=\"sk-toggleable__control sk-hidden--visually\" id=\"sk-estimator-id-5\" type=\"checkbox\" ><label for=\"sk-estimator-id-5\" class=\"sk-toggleable__label sk-toggleable__label-arrow\">estimator: XGBClassifier</label><div class=\"sk-toggleable__content\"><pre>XGBClassifier(base_score=None, booster=None, callbacks=None,\n",
       "              colsample_bylevel=None, colsample_bynode=None,\n",
       "              colsample_bytree=None, device=None, early_stopping_rounds=None,\n",
       "              enable_categorical=False, eval_metric=&#x27;logloss&#x27;,\n",
       "              feature_types=None, gamma=None, grow_policy=None,\n",
       "              importance_type=None, interaction_constraints=None,\n",
       "              learning_rate=None, max_bin=None, max_cat_threshold=None,\n",
       "              max_cat_to_onehot=None, max_delta_step=None, max_depth=None,\n",
       "              max_leaves=None, min_child_weight=None, missing=nan,\n",
       "              monotone_constraints=None, multi_strategy=None, n_estimators=None,\n",
       "              n_jobs=None, num_parallel_tree=None, random_state=666, ...)</pre></div></div></div><div class=\"sk-serial\"><div class=\"sk-item\"><div class=\"sk-estimator sk-toggleable\"><input class=\"sk-toggleable__control sk-hidden--visually\" id=\"sk-estimator-id-6\" type=\"checkbox\" ><label for=\"sk-estimator-id-6\" class=\"sk-toggleable__label sk-toggleable__label-arrow\">XGBClassifier</label><div class=\"sk-toggleable__content\"><pre>XGBClassifier(base_score=None, booster=None, callbacks=None,\n",
       "              colsample_bylevel=None, colsample_bynode=None,\n",
       "              colsample_bytree=None, device=None, early_stopping_rounds=None,\n",
       "              enable_categorical=False, eval_metric=&#x27;logloss&#x27;,\n",
       "              feature_types=None, gamma=None, grow_policy=None,\n",
       "              importance_type=None, interaction_constraints=None,\n",
       "              learning_rate=None, max_bin=None, max_cat_threshold=None,\n",
       "              max_cat_to_onehot=None, max_delta_step=None, max_depth=None,\n",
       "              max_leaves=None, min_child_weight=None, missing=nan,\n",
       "              monotone_constraints=None, multi_strategy=None, n_estimators=None,\n",
       "              n_jobs=None, num_parallel_tree=None, random_state=666, ...)</pre></div></div></div></div></div></div></div></div></div></div>"
      ],
      "text/plain": [
       "RandomizedSearchCV(cv=5,\n",
       "                   estimator=XGBClassifier(base_score=None, booster=None,\n",
       "                                           callbacks=None,\n",
       "                                           colsample_bylevel=None,\n",
       "                                           colsample_bynode=None,\n",
       "                                           colsample_bytree=None, device=None,\n",
       "                                           early_stopping_rounds=None,\n",
       "                                           enable_categorical=False,\n",
       "                                           eval_metric='logloss',\n",
       "                                           feature_types=None, gamma=None,\n",
       "                                           grow_policy=None,\n",
       "                                           importance_type=None,\n",
       "                                           interaction_constraints=None,\n",
       "                                           learning...\n",
       "                                           monotone_constraints=None,\n",
       "                                           multi_strategy=None,\n",
       "                                           n_estimators=None, n_jobs=None,\n",
       "                                           num_parallel_tree=None,\n",
       "                                           random_state=666, ...),\n",
       "                   n_iter=50, n_jobs=8,\n",
       "                   param_distributions={'colsample_bytree': [0.8, 0.9, 1],\n",
       "                                        'learning_rate': [0.01, 0.05, 0.1, 0.2],\n",
       "                                        'max_depth': array([3, 4, 5, 6, 7, 8, 9]),\n",
       "                                        'n_estimators': [100, 200, 300],\n",
       "                                        'subsample': [0.8, 0.9, 1]},\n",
       "                   random_state=666, scoring='accuracy')"
      ]
     },
     "execution_count": 35,
     "metadata": {},
     "output_type": "execute_result"
    }
   ],
   "source": [
    "params = {\n",
    "    'max_depth': np.arange(3, 10),\n",
    "    'learning_rate': [0.01, 0.05, 0.1, 0.2],\n",
    "    'n_estimators': [100, 200, 300],\n",
    "    'subsample': [0.8, 0.9, 1],\n",
    "    'colsample_bytree': [0.8, 0.9, 1]\n",
    "}\n",
    "\n",
    "# Initialize the XGBoost classifier\n",
    "xgb_clf = xgb.XGBClassifier(use_label_encoder=False, eval_metric='logloss', random_state=666)\n",
    "\n",
    "# Initialize RandomizedSearchCV for hyperparameter tuning\n",
    "rs_xgb = RandomizedSearchCV(xgb_clf, params, n_iter=50, cv=5, scoring='accuracy', n_jobs=8, random_state=666)\n",
    "\n",
    "# Fit the RandomizedSearchCV object to the resampled training data\n",
    "rs_xgb.fit(X_train_res, y_train_res)"
   ]
  },
  {
   "cell_type": "code",
   "execution_count": 36,
   "id": "11c011f4-8500-4d5f-8247-e6390c5ee3bd",
   "metadata": {},
   "outputs": [
    {
     "name": "stdout",
     "output_type": "stream",
     "text": [
      "Best parameters: {'subsample': 0.8, 'n_estimators': 300, 'max_depth': 8, 'learning_rate': 0.2, 'colsample_bytree': 0.9}\n",
      "Best score: 0.9885381840961823\n"
     ]
    }
   ],
   "source": [
    "print(\"Best parameters:\", rs_xgb.best_params_)\n",
    "print(\"Best score:\", rs_xgb.best_score_)"
   ]
  },
  {
   "cell_type": "code",
   "execution_count": 37,
   "id": "0bbb76e5-5fa3-4c18-b8c2-de48f5e8df6a",
   "metadata": {},
   "outputs": [
    {
     "name": "stdout",
     "output_type": "stream",
     "text": [
      "Test set accuracy XGBoost: 0.9395\n"
     ]
    }
   ],
   "source": [
    "# Use the best params to fit model and predict\n",
    "best_xgb = xgb.XGBClassifier(**rs_xgb.best_params_, use_label_encoder=False, eval_metric='logloss', random_state=666)\n",
    "\n",
    "best_xgb.fit(X_train_res, y_train_res)\n",
    "\n",
    "y_pred_xgb = best_xgb.predict(X_test)\n",
    "\n",
    "test_accuracy_xgb = accuracy_score(y_test, y_pred_xgb)\n",
    "\n",
    "print(f\"Test set accuracy XGBoost: {test_accuracy_xgb:.4f}\")"
   ]
  },
  {
   "cell_type": "code",
   "execution_count": 38,
   "id": "d95e3efa-ee2e-44fa-b2ff-72eb41f03c3a",
   "metadata": {},
   "outputs": [
    {
     "data": {
      "text/plain": [
       "0.933658685374409"
      ]
     },
     "execution_count": 38,
     "metadata": {},
     "output_type": "execute_result"
    }
   ],
   "source": [
    "y_test.mean()"
   ]
  },
  {
   "cell_type": "markdown",
   "id": "196f8da4-0bfc-456d-9f0d-19e4be8946fc",
   "metadata": {},
   "source": [
    "## SVM"
   ]
  },
  {
   "cell_type": "code",
   "execution_count": 42,
   "id": "808e1778-7b7a-446a-a71f-c7812a0e0d73",
   "metadata": {},
   "outputs": [
    {
     "name": "stdout",
     "output_type": "stream",
     "text": [
      "Best parameters: {'svc__C': 10, 'svc__gamma': 'scale', 'svc__kernel': 'rbf'}\n",
      "Best score: 0.6150809691904856\n",
      "Test set accuracy with GridSearchCV SVC: 0.3687\n"
     ]
    }
   ],
   "source": [
    "# %%time\n",
    "# pipe_svc = Pipeline([\n",
    "#     ('scaler', StandardScaler()),\n",
    "#     ('svc', SVC(random_state=666))\n",
    "# ])\n",
    "\n",
    "# param_grid_svc = {\n",
    "#     'svc__C': [0.1, 1, 10],        # Regularization parameter\n",
    "#     'svc__kernel': ['linear', 'rbf'], # Kernel type\n",
    "#     'svc__gamma': ['scale', 'auto']   # Kernel coefficient for 'rbf'\n",
    "# }\n",
    "\n",
    "# gs_svc = GridSearchCV(pipe_svc, param_grid_svc, cv=5, scoring='accuracy', n_jobs=8)\n",
    "\n",
    "# # Fit the GridSearchCV object to the resampled training data\n",
    "# gs_svc.fit(X_train_res, y_train_res)\n",
    "\n",
    "# # Print the best parameters and the corresponding score\n",
    "# print(\"Best parameters:\", gs_svc.best_params_)\n",
    "# print(\"Best score:\", gs_svc.best_score_)\n",
    "\n",
    "# # Use the best estimator to make predictions on the test set\n",
    "# y_pred_gs_svc = gs_svc.best_estimator_.predict(X_test)\n",
    "\n",
    "# # Calculate the accuracy on the test set\n",
    "# test_accuracy_gs_svc = accuracy_score(y_test, y_pred_gs_svc)\n",
    "\n",
    "# print(f\"Test set accuracy with GridSearchCV SVC: {test_accuracy_gs_svc:.4f}\")"
   ]
  },
  {
   "cell_type": "code",
   "execution_count": 41,
   "id": "4c21ec33-91db-4d12-9cf6-40f62dfeb77c",
   "metadata": {},
   "outputs": [
    {
     "name": "stdout",
     "output_type": "stream",
     "text": [
      "Best parameters: {'svc__C': 100, 'svc__kernel': 'rbf'}\n",
      "Best score: 0.6324415799280587\n",
      "Test set accuracy with GridSearchCV SVC: 0.4071\n",
      "CPU times: user 3min 34s, sys: 2.31 s, total: 3min 36s\n",
      "Wall time: 2h 32min 4s\n"
     ]
    }
   ],
   "source": [
    "%%time\n",
    "pipe_svc = Pipeline([\n",
    "    ('scaler', StandardScaler()),\n",
    "    ('svc', SVC(random_state=666))\n",
    "])\n",
    "\n",
    "param_grid_svc = [\n",
    "    {\n",
    "        'svc__C': [0.01, 0.1, 1, 10, 100],  # Regularization parameter\n",
    "        'svc__kernel': ['rbf']  # Kernel type\n",
    "    },\n",
    "    {\n",
    "        'svc__C': [0.01, 0.1, 1, 10, 100],  # Regularization parameter\n",
    "        'svc__kernel': ['poly'],  # Kernel type\n",
    "        'svc__degree': np.arange(2, 8)  # Degree of the polynomial kernel\n",
    "    }\n",
    "]\n",
    "\n",
    "gs_svc = GridSearchCV(pipe_svc, param_grid_svc, cv=5, scoring='accuracy', n_jobs=8)\n",
    "\n",
    "# Fit the GridSearchCV object to the resampled training data\n",
    "gs_svc.fit(X_train_res, y_train_res)\n",
    "\n",
    "# Print the best parameters and the corresponding score\n",
    "print(\"Best parameters:\", gs_svc.best_params_)\n",
    "print(\"Best score:\", gs_svc.best_score_)\n",
    "\n",
    "# Use the best estimator to make predictions on the test set\n",
    "y_pred_gs_svc = gs_svc.best_estimator_.predict(X_test)\n",
    "\n",
    "# Calculate the accuracy on the test set\n",
    "test_accuracy_gs_svc = accuracy_score(y_test, y_pred_gs_svc)\n",
    "\n",
    "print(f\"Test set accuracy with GridSearchCV SVC: {test_accuracy_gs_svc:.4f}\")"
   ]
  },
  {
   "cell_type": "markdown",
   "id": "12a7a5c8-ac40-4a0c-9e4e-82360fce8dbe",
   "metadata": {},
   "source": [
    "## Neural Network"
   ]
  },
  {
   "cell_type": "code",
   "execution_count": 34,
   "id": "a71d0ce2-8705-4553-985e-ba80f3f83747",
   "metadata": {},
   "outputs": [],
   "source": [
    "# Scale the data\n",
    "scaler = StandardScaler()\n",
    "X_train_res_scaled = scaler.fit_transform(X_train_res)\n",
    "X_test_scaled = scaler.transform(X_test)"
   ]
  },
  {
   "cell_type": "code",
   "execution_count": 35,
   "id": "3826d3b3-a040-4b4c-9a4a-05ebe0237eff",
   "metadata": {},
   "outputs": [
    {
     "name": "stdout",
     "output_type": "stream",
     "text": [
      "Epoch 1/50\n"
     ]
    },
    {
     "name": "stderr",
     "output_type": "stream",
     "text": [
      "/Users/juanpena/anaconda3/lib/python3.11/site-packages/keras/src/layers/core/dense.py:85: UserWarning: Do not pass an `input_shape`/`input_dim` argument to a layer. When using Sequential models, prefer using an `Input(shape)` object as the first layer in the model instead.\n",
      "  super().__init__(activity_regularizer=activity_regularizer, **kwargs)\n"
     ]
    },
    {
     "name": "stdout",
     "output_type": "stream",
     "text": [
      "\u001b[1m3444/3444\u001b[0m \u001b[32m━━━━━━━━━━━━━━━━━━━━\u001b[0m\u001b[37m\u001b[0m \u001b[1m1s\u001b[0m 304us/step - accuracy: 0.5956 - loss: 0.6527 - val_accuracy: 0.4815 - val_loss: 0.6553\n",
      "Epoch 2/50\n",
      "\u001b[1m3444/3444\u001b[0m \u001b[32m━━━━━━━━━━━━━━━━━━━━\u001b[0m\u001b[37m\u001b[0m \u001b[1m1s\u001b[0m 296us/step - accuracy: 0.6318 - loss: 0.6195 - val_accuracy: 0.4712 - val_loss: 0.6578\n",
      "Epoch 3/50\n",
      "\u001b[1m3444/3444\u001b[0m \u001b[32m━━━━━━━━━━━━━━━━━━━━\u001b[0m\u001b[37m\u001b[0m \u001b[1m1s\u001b[0m 296us/step - accuracy: 0.6447 - loss: 0.6074 - val_accuracy: 0.6867 - val_loss: 0.6094\n",
      "Epoch 4/50\n",
      "\u001b[1m3444/3444\u001b[0m \u001b[32m━━━━━━━━━━━━━━━━━━━━\u001b[0m\u001b[37m\u001b[0m \u001b[1m1s\u001b[0m 291us/step - accuracy: 0.6579 - loss: 0.5939 - val_accuracy: 0.7617 - val_loss: 0.5694\n",
      "Epoch 5/50\n",
      "\u001b[1m3444/3444\u001b[0m \u001b[32m━━━━━━━━━━━━━━━━━━━━\u001b[0m\u001b[37m\u001b[0m \u001b[1m1s\u001b[0m 291us/step - accuracy: 0.6609 - loss: 0.5877 - val_accuracy: 0.7521 - val_loss: 0.5482\n",
      "Epoch 6/50\n",
      "\u001b[1m3444/3444\u001b[0m \u001b[32m━━━━━━━━━━━━━━━━━━━━\u001b[0m\u001b[37m\u001b[0m \u001b[1m1s\u001b[0m 294us/step - accuracy: 0.6676 - loss: 0.5811 - val_accuracy: 0.6778 - val_loss: 0.5712\n",
      "Epoch 7/50\n",
      "\u001b[1m3444/3444\u001b[0m \u001b[32m━━━━━━━━━━━━━━━━━━━━\u001b[0m\u001b[37m\u001b[0m \u001b[1m1s\u001b[0m 291us/step - accuracy: 0.6727 - loss: 0.5756 - val_accuracy: 0.8343 - val_loss: 0.4815\n",
      "Epoch 8/50\n",
      "\u001b[1m3444/3444\u001b[0m \u001b[32m━━━━━━━━━━━━━━━━━━━━\u001b[0m\u001b[37m\u001b[0m \u001b[1m1s\u001b[0m 295us/step - accuracy: 0.6791 - loss: 0.5675 - val_accuracy: 0.5075 - val_loss: 0.6464\n",
      "Epoch 9/50\n",
      "\u001b[1m3444/3444\u001b[0m \u001b[32m━━━━━━━━━━━━━━━━━━━━\u001b[0m\u001b[37m\u001b[0m \u001b[1m1s\u001b[0m 291us/step - accuracy: 0.6731 - loss: 0.5679 - val_accuracy: 0.7012 - val_loss: 0.5655\n",
      "Epoch 10/50\n",
      "\u001b[1m3444/3444\u001b[0m \u001b[32m━━━━━━━━━━━━━━━━━━━━\u001b[0m\u001b[37m\u001b[0m \u001b[1m1s\u001b[0m 291us/step - accuracy: 0.6814 - loss: 0.5596 - val_accuracy: 0.5102 - val_loss: 0.6587\n",
      "Epoch 11/50\n",
      "\u001b[1m3444/3444\u001b[0m \u001b[32m━━━━━━━━━━━━━━━━━━━━\u001b[0m\u001b[37m\u001b[0m \u001b[1m1s\u001b[0m 295us/step - accuracy: 0.6836 - loss: 0.5567 - val_accuracy: 0.8333 - val_loss: 0.5059\n",
      "Epoch 12/50\n",
      "\u001b[1m3444/3444\u001b[0m \u001b[32m━━━━━━━━━━━━━━━━━━━━\u001b[0m\u001b[37m\u001b[0m \u001b[1m1s\u001b[0m 291us/step - accuracy: 0.6875 - loss: 0.5534 - val_accuracy: 0.5857 - val_loss: 0.6112\n",
      "Epoch 13/50\n",
      "\u001b[1m3444/3444\u001b[0m \u001b[32m━━━━━━━━━━━━━━━━━━━━\u001b[0m\u001b[37m\u001b[0m \u001b[1m1s\u001b[0m 295us/step - accuracy: 0.6919 - loss: 0.5477 - val_accuracy: 0.7238 - val_loss: 0.5512\n",
      "Epoch 14/50\n",
      "\u001b[1m3444/3444\u001b[0m \u001b[32m━━━━━━━━━━━━━━━━━━━━\u001b[0m\u001b[37m\u001b[0m \u001b[1m1s\u001b[0m 290us/step - accuracy: 0.6972 - loss: 0.5420 - val_accuracy: 0.6404 - val_loss: 0.5796\n",
      "Epoch 15/50\n",
      "\u001b[1m3444/3444\u001b[0m \u001b[32m━━━━━━━━━━━━━━━━━━━━\u001b[0m\u001b[37m\u001b[0m \u001b[1m1s\u001b[0m 294us/step - accuracy: 0.6924 - loss: 0.5442 - val_accuracy: 0.7596 - val_loss: 0.5180\n",
      "Epoch 16/50\n",
      "\u001b[1m3444/3444\u001b[0m \u001b[32m━━━━━━━━━━━━━━━━━━━━\u001b[0m\u001b[37m\u001b[0m \u001b[1m1s\u001b[0m 292us/step - accuracy: 0.6955 - loss: 0.5405 - val_accuracy: 0.4984 - val_loss: 0.6241\n",
      "Epoch 17/50\n",
      "\u001b[1m3444/3444\u001b[0m \u001b[32m━━━━━━━━━━━━━━━━━━━━\u001b[0m\u001b[37m\u001b[0m \u001b[1m1s\u001b[0m 295us/step - accuracy: 0.6984 - loss: 0.5379 - val_accuracy: 0.6938 - val_loss: 0.5640\n",
      "\u001b[1m615/615\u001b[0m \u001b[32m━━━━━━━━━━━━━━━━━━━━\u001b[0m\u001b[37m\u001b[0m \u001b[1m0s\u001b[0m 156us/step - accuracy: 0.8356 - loss: 0.4831\n",
      "Test accuracy: 0.8343\n"
     ]
    }
   ],
   "source": [
    "# Define the neural network architecture\n",
    "model6 = Sequential([\n",
    "    Dense(128, activation='relu', input_shape=(X_train_res_scaled.shape[1],)),\n",
    "    Dropout(0.2),\n",
    "    Dense(64, activation='relu'),\n",
    "    Dropout(0.2),\n",
    "    Dense(1, activation='sigmoid')\n",
    "])\n",
    "\n",
    "# Compile the model\n",
    "model6.compile(optimizer=Adam(learning_rate=0.001),\n",
    "              loss='binary_crossentropy',\n",
    "              metrics=['accuracy'])\n",
    "\n",
    "# Train the model\n",
    "early_stopping = EarlyStopping(monitor='val_loss', patience=10, restore_best_weights=True)\n",
    "\n",
    "history6 = model6.fit(X_train_res_scaled, y_train_res,\n",
    "                    validation_data=(X_test_scaled, y_test),\n",
    "                    epochs=50,\n",
    "                    batch_size=32,\n",
    "                    callbacks=[early_stopping])\n",
    "\n",
    "# Evaluate the model on the test set\n",
    "test_loss, test_accuracy = model6.evaluate(X_test_scaled, y_test)\n",
    "print(f\"Test accuracy: {test_accuracy:.4f}\")"
   ]
  },
  {
   "cell_type": "code",
   "execution_count": 37,
   "id": "dfc6d0c7-d07a-4322-8da4-4bf02b6362d6",
   "metadata": {},
   "outputs": [
    {
     "name": "stdout",
     "output_type": "stream",
     "text": [
      "\u001b[1m615/615\u001b[0m \u001b[32m━━━━━━━━━━━━━━━━━━━━\u001b[0m\u001b[37m\u001b[0m \u001b[1m0s\u001b[0m 215us/step\n",
      "Confusion Matrix:\n",
      "[[  594   711]\n",
      " [ 2549 15817]]\n"
     ]
    }
   ],
   "source": [
    "# Predict the labels for the test set\n",
    "y_pred = model6.predict(X_test_scaled)\n",
    "y_pred = (y_pred > 0.5).astype(int)  # Convert probabilities to binary predictions\n",
    "\n",
    "# Compute the confusion matrix\n",
    "conf_matrix = confusion_matrix(y_test, y_pred)\n",
    "\n",
    "# Print the confusion matrix\n",
    "print(\"Confusion Matrix:\")\n",
    "print(conf_matrix)"
   ]
  },
  {
   "cell_type": "markdown",
   "id": "61e43453-ff8f-422c-b587-230f8b0428ac",
   "metadata": {},
   "source": [
    "**Confussion Matrix:**\n",
    "- Accuracy: (TP + TN) / (TP + FP + FN + TN) = (594 + 15817) / (594 + 711 + 2549 + 15817) = 0.84\n",
    "- Precision: TP / (TP + FP) = 594 / (594 + 711) = 0.45\n",
    "- Recall: TP / (TP + FN) = 594 / (594 + 2549) = 0.19\n",
    "- F1 Score: 2 * (Precision * Recall) / (Precision + Recall) = 2 * (0.45 * 0.19) / (0.45 + 0.19) = 0.27"
   ]
  },
  {
   "cell_type": "code",
   "execution_count": 38,
   "id": "2fc994e3-f44d-40cd-a7f4-f37d12b1f82e",
   "metadata": {},
   "outputs": [
    {
     "data": {
      "image/png": "[encoded data removed]",
      "text/plain": [
       "<Figure size 640x480 with 1 Axes>"
      ]
     },
     "metadata": {},
     "output_type": "display_data"
    }
   ],
   "source": [
    "\n",
    "# Plot\n",
    "plt.plot(history6.history['loss'], label='Training Loss')\n",
    "plt.plot(history6.history['val_loss'], label='Testing Loss')\n",
    "plt.title('Training and Testing Loss')\n",
    "plt.xlabel('Epochs')\n",
    "plt.ylabel('Loss')\n",
    "plt.legend()\n",
    "plt.show()\n"
   ]
  },
  {
   "cell_type": "code",
   "execution_count": 5,
   "id": "afb2fc1c-b07c-41a0-a3f6-dc9a2e524514",
   "metadata": {},
   "outputs": [
    {
     "data": {
      "image/png": "[encoded data removed]",
      "text/plain": [
       "<Figure size 800x600 with 1 Axes>"
      ]
     },
     "metadata": {},
     "output_type": "display_data"
    }
   ],
   "source": [
    "# Accuracy plot\n",
    "models = ['Random Forest', 'XGBoost', 'Neural Net', 'SVM']\n",
    "accuracies = [0.9407, 0.9395, 0.8343, 0.4071]\n",
    "baseline = 0.9336\n",
    "\n",
    "plt.figure(figsize=(8, 6))\n",
    "plt.barh(models, accuracies, color='darkblue')\n",
    "plt.axvline(x=baseline, color='red', linestyle='--', label=f'Baseline = {baseline}')\n",
    "plt.xlabel('Accuracy')\n",
    "plt.ylabel('Model')\n",
    "plt.title('Accuracy by Model')\n",
    "plt.legend()\n",
    "plt.show()"
   ]
  }
 ],
 "metadata": {
  "kernelspec": {
   "display_name": "Python 3 (ipykernel)",
   "language": "python",
   "name": "python3"
  },
  "language_info": {
   "codemirror_mode": {
    "name": "ipython",
    "version": 3
   },
   "file_extension": ".py",
   "mimetype": "text/x-python",
   "name": "python",
   "nbconvert_exporter": "python",
   "pygments_lexer": "ipython3",
   "version": "3.11.5"
  }
 },
 "nbformat": 4,
 "nbformat_minor": 5
}
