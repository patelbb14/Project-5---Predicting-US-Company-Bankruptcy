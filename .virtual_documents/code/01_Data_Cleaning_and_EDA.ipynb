











# Import packages
import numpy as np
import pandas as pd
import matplotlib.pyplot as plt
import seaborn as sns


# Read in data
bank = pd.read_csv('../data/american_bankruptcy.csv')


# Look at the first 5 rows
bank.head()


# Checking for NAs
bank.isna().sum()


# Looking at data info to see if everything looks good
bank.info()


# Looking at the value counts by company name
bank.company_name.value_counts()


# TODO handle single values


# Looking at the value counts by status label
bank.status_label.value_counts()


# Looking deeper into status_label column. Breaking it out into unique company counts
bank['status_label'] = np.where(bank['status_label'] == 'alive', 1, 0)

# Sort the DataFrame by year in descending order
bank_sorted = bank.sort_values(by='year', ascending=False)

# Drop duplicates keeping the first occurrence (which is the latest year after sorting)
bank_latest = bank_sorted.drop_duplicates(subset='company_name', keep='first')

# Check
bank_latest['status_label'].value_counts()


# Looking at the value counts by year
bank.year.value_counts()


# Looking at the summary statistics
bank.describe()








bank.columns





plt.figure(figsize=(8,5))
plt.scatter(bank['year'], bank['X1'], c=bank['status_label'], cmap='coolwarm', alpha = 1, s = 10, edgecolors=None)
plt.title('Scatterplot of Year vs Current Assets')
plt.xlabel('Year')
plt.ylabel('Current Assets(millions of USD)')
plt.xticks(range(1999,2019), rotation = 40);


plt.figure(figsize=(8,5))
plt.scatter(bank['year'], bank['X2'], c=bank['status_label'], cmap='coolwarm', alpha = 1, s = 10, edgecolors=None)
plt.title('Scatterplot of Year vs Cost of goods sold')
plt.xlabel('Year')
plt.ylabel('Cost of goods sold(millions of USD)')
plt.xticks(range(1999,2019), rotation = 40);


plt.figure(figsize=(8,5))
plt.scatter(bank['year'], bank['X3'], c=bank['status_label'], cmap='coolwarm', alpha = 1, s = 10, edgecolors=None)
plt.title('Scatterplot of Year vs Depreciation and amortization')
plt.xlabel('Year')
plt.ylabel('Depreciation and amortization(millions of USD)')
plt.xticks(range(1999,2019), rotation = 40);


plt.figure(figsize=(8,5))
plt.scatter(bank['year'], bank['X4'], c=bank['status_label'], cmap='coolwarm', alpha = 0.1, s = 10, edgecolors=None)
plt.title('Scatterplot of Year vs EBITDA')
plt.xlabel('Year')
plt.ylabel('EBITDA(millions of USD)')
plt.xticks(range(1999,2019), rotation = 40);


# Alternative visualization based on previous scatter plot
plt.figure(figsize=(8,5))
plt.scatter(bank['year'], bank['X4'], color='blue', label=1, alpha=0.2) # alive
plt.scatter(bank['year'], bank['X4'], color='red', label=0, alpha=0.2) # bankrupt


plt.title('EBITDA over time for alive and bankrupt companies')
plt.xlabel('Year')
plt.ylabel('EBITDA (millions of USD)')
plt.xticks(range(1999,2019), rotation = 40)
plt.tight_layout()
plt.savefig('../images/EBITDA_year_scatter.png');


plt.figure(figsize=(8,5))
plt.scatter(bank['year'], bank['X5'], c=bank['status_label'], cmap='coolwarm', alpha = 1, s = 10, edgecolors=None)
plt.title('Scatterplot of Year vs Inventory')
plt.xlabel('Year')
plt.ylabel('Inventory(millions of USD)')
plt.xticks(range(1999,2019), rotation = 40);


plt.figure(figsize=(8,5))
plt.scatter(bank['year'], bank['X6'], c=bank['status_label'], cmap='coolwarm', alpha = 1, s = 10, edgecolors=None)
plt.title('Scatterplot of Year vs Net Income')
plt.xlabel('Year')
plt.ylabel('Net Income(millions of USD)')
plt.xticks(range(1999,2019), rotation = 40);


# Alternate figure for Net income over time as above
plt.figure(figsize=(8,5))
plt.scatter(bank['year'], bank['X6'], color='blue', label=1, alpha=0.2) # alive
plt.scatter(bank['year'], bank['X6'], color='red', label=0, alpha=0.2) # bankrupt
plt.title('Net Income over Time')
plt.xlabel('Year')
plt.ylabel('Net Income (millions of USD)')
plt.xticks(range(1999,2019), rotation = 40);
plt.tight_layout()
plt.savefig('../images/net_income_year_scatter.png');


plt.figure(figsize=(8,5))
plt.scatter(bank['year'], bank['X7'], c=bank['status_label'], cmap='coolwarm', alpha = 1, s = 10, edgecolors=None)
plt.title('Scatterplot of Year vs Total Receivables')
plt.xlabel('Year')
plt.ylabel('Total Receivables(millions of USD)')
plt.xticks(range(1999,2019), rotation = 40);


plt.figure(figsize=(8,5))
plt.scatter(bank['year'], bank['X8'], c=bank['status_label'], cmap='coolwarm', alpha = 1, s = 10, edgecolors=None)
plt.title('Scatterplot of Year vs Market value')
plt.xlabel('Year')
plt.ylabel('Market value(millions of USD)')
plt.xticks(range(1999,2019), rotation = 40);


# Alternate figure for market value over time as above

plt.figure(figsize=(8,5))
plt.scatter(bank['year'], bank['X8'], color='blue', label=1, alpha=0.2) # alive
plt.scatter(bank['year'], bank['X8'], color='red', label=0, alpha=0.2) # bankrupt
plt.title('Market value over time')
plt.xlabel('Year')
plt.ylabel('Net Income (millions of USD)')
plt.xticks(range(1999,2019), rotation = 40);
plt.tight_layout()
plt.savefig('../images/market_value_year_scatter.png');


plt.figure(figsize=(8,5))
plt.scatter(bank['year'], bank['X9'], c=bank['status_label'], cmap='coolwarm', alpha = 1, s = 10, edgecolors=None)
plt.title('Scatterplot of Year vs Net sales')
plt.xlabel('Year')
plt.ylabel('Net sales(millions of USD)')
plt.xticks(range(1999,2019), rotation = 40);


plt.figure(figsize=(8,5))
plt.scatter(bank['year'], bank['X10'], c=bank['status_label'], cmap='coolwarm', alpha = 1, s = 10, edgecolors=None)
plt.title('Scatterplot of Year vs Total assets')
plt.xlabel('Year')
plt.ylabel('Total assets(millions of USD)')
plt.xticks(range(1999,2019), rotation = 40);


plt.figure(figsize=(8,5))
plt.scatter(bank['year'], bank['X11'], c=bank['status_label'], cmap='coolwarm', alpha = 1, s = 10, edgecolors=None)
plt.title('Scatterplot of Year vs Total Long-term debt')
plt.xlabel('Year')
plt.ylabel('Total Long-term debt(millions of USD)')
plt.xticks(range(1999,2019), rotation = 40);


# Alternate figure for long term debt over time as above

plt.figure(figsize=(8,5))
plt.scatter(bank['year'], bank['X11'], color='blue', label=1, alpha=0.2) # alive
plt.scatter(bank['year'], bank['X11'], color='red', label=0, alpha=0.2) # bankrupt
plt.title('Long-term debt over time')
plt.xlabel('Year')
plt.ylabel('Long-term debt held (millions of USD)')
plt.xticks(range(1999,2019), rotation = 40);
plt.tight_layout()
plt.savefig('../images/longterm_debt_yr_scatter.png');


plt.figure(figsize=(8,5))
plt.scatter(bank['year'], bank['X12'], c=bank['status_label'], cmap='coolwarm', alpha = 1, s = 10, edgecolors=None)
plt.title('Scatterplot of Year vs EBIT')
plt.xlabel('Year')
plt.ylabel('EBIT(millions of USD)')
plt.xticks(range(1999,2019), rotation = 40);


plt.figure(figsize=(8,5))
plt.scatter(bank['year'], bank['X13'], c=bank['status_label'], cmap='coolwarm', alpha = 1, s = 10, edgecolors=None)
plt.title('Scatterplot of Year vs Gross Profit')
plt.xlabel('Year')
plt.ylabel('Gross Profit(millions of USD)')
plt.xticks(range(1999,2019), rotation = 40);


plt.figure(figsize=(8,5))
plt.scatter(bank['year'], bank['X14'], c=bank['status_label'], cmap='coolwarm', alpha = 1, s = 10, edgecolors=None)
plt.title('Scatterplot of Year vs Total Current Liabilities')
plt.xlabel('Year')
plt.ylabel('Total Current Liabilities(millions of USD)')
plt.xticks(range(1999,2019), rotation = 40);


# Alternate figure for total current liabilities over time as above

plt.figure(figsize=(8,5))
plt.scatter(bank['year'], bank['X14'], color='blue', label=1, alpha=0.2) # alive
plt.scatter(bank['year'], bank['X14'], color='red', label=0, alpha=0.2) # bankrupt
plt.title('Total current liabilities over time')
plt.xlabel('Year')
plt.ylabel('Total current liabilities (millions of USD)')
plt.xticks(range(1999,2019), rotation = 40);
plt.tight_layout()
plt.savefig('../images/tot_curr_liabilities_yr_scatter.png');


plt.figure(figsize=(8,5))
plt.scatter(bank['year'], bank['X15'], c=bank['status_label'], cmap='coolwarm', alpha = 1, s = 10, edgecolors=None)
plt.title('Scatterplot of Year vs Retained Earnings')
plt.xlabel('Year')
plt.ylabel('Retained Earnings(millions of USD)')
plt.xticks(range(1999,2019), rotation = 40);


plt.figure(figsize=(8,5))
plt.scatter(bank['year'], bank['X16'], c=bank['status_label'], cmap='coolwarm', alpha = 1, s = 10, edgecolors=None)
plt.title('Scatterplot of Year vs Total Revenue')
plt.xlabel('Year')
plt.ylabel('Total Revenue(millions of USD)')
plt.xticks(range(1999,2019), rotation = 40);


plt.figure(figsize=(8,5))
plt.scatter(bank['year'], bank['X17'], c=bank['status_label'], cmap='coolwarm', alpha = 1, s = 10, edgecolors=None)
plt.title('Scatterplot of Year vs Total Liabilities')
plt.xlabel('Year')
plt.ylabel('Total Liabilities(millions of USD)')
plt.xticks(range(1999,2019), rotation = 40);


# Alternate figure for total liabilities over time as above

plt.figure(figsize=(8,5))
plt.scatter(bank['year'], bank['X17'], color='blue', label=1, alpha=0.2) # alive
plt.scatter(bank['year'], bank['X17'], color='red', label=0, alpha=0.2) # bankrupt
plt.title('Total liabilities over time')
plt.xlabel('Year')
plt.ylabel('Total liabilities (millions of USD)')
plt.xticks(range(1999,2019), rotation = 40);
plt.tight_layout()
plt.savefig('../images/total_liabilities_yr_scatter.png');


plt.figure(figsize=(8,5))
plt.scatter(bank['year'], bank['X18'], c=bank['status_label'], cmap='coolwarm', alpha = 1, s = 10, edgecolors=None)
plt.title('Scatterplot of Year vs Total Operating Expenses')
plt.xlabel('Year')
plt.ylabel('Total Operating Expenses(millions of USD)')
plt.xticks(range(1999,2019), rotation = 40);


# Alternate figure for total operating expenses over time as above

plt.figure(figsize=(8,5))
plt.scatter(bank['year'], bank['X18'], color='blue', label=1, alpha=0.2) # alive
plt.scatter(bank['year'], bank['X18'], color='red', label=0, alpha=0.2) # bankrupt
plt.title('Total operating expenses over time')
plt.xlabel('Year')
plt.ylabel('Total operating expenses (millions of USD)')
plt.xticks(range(1999,2019), rotation = 40);
plt.tight_layout()
plt.savefig('../images/tot_op_year_scatter.png');


# bankruptcy count
bank[bank.status_label == 0].groupby('year').count()





plt.figure(figsize=(8,5))
sns.histplot(bank['status_label'])
plt.title('Distribution of Status Label');


# adapted from above plot to demonstrate unbalanced classes
plt.figure(figsize=(5,4))
bankrupt_ct = bank_latest['status_label'].value_counts()[0]
alive_ct = bank_latest['status_label'].value_counts()[1]
plt.bar(['Bankrupt', 'Alive'], [bankrupt_ct,  alive_ct], color=['crimson', 'navy'])
plt.title('Distribution of bankruptcy status')
plt.savefig('../images/class_imbalance.png');





corr= bank.corr(numeric_only = True)

# Getting the Upper Triangle of the co-relation matrix
matrix = np.triu(corr)

plt.figure(figsize=(12,6))
sns.heatmap(data = corr,
            annot = True,
            vmin = -1,
            vmax = 1,
           cmap = "coolwarm",
           mask = matrix);
