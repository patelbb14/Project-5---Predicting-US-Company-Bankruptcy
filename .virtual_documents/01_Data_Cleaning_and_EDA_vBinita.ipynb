# Import packages
import numpy as np
import pandas as pd
import matplotlib.pyplot as plt
import seaborn as sns


# Read in data
bank = pd.read_csv('./data/american_bankruptcy.csv')


bank.head()


bank.isna().sum()


bank.info()


bank.company_name.value_counts()


bank.status_label.value_counts()


bank.year.value_counts()


bank.describe()


bank.columns


plt.figure(figsize=(8,5))
plt.scatter(bank['year'], bank['X1'])
plt.title('Scatterplot of Year vs Current Assets')
plt.xlabel('Year')
plt.ylabel('Current Assets');


plt.figure(figsize=(8,5))
plt.scatter(bank['year'], bank['X2'])
plt.title('Scatterplot of Year vs Cost of goods sold')
plt.xlabel('Year')
plt.ylabel('Cost of goods sold');


plt.figure(figsize=(8,5))
plt.scatter(bank['year'], bank['X3'])
plt.title('Scatterplot of Year vs Depreciation and amortization')
plt.xlabel('Year')
plt.ylabel('Depreciation and amortization');


plt.figure(figsize=(8,5))
plt.scatter(bank['year'], bank['X4'])
plt.title('Scatterplot of Year vs EBITDA')
plt.xlabel('Year')
plt.ylabel('EBITDA');


plt.figure(figsize=(8,5))
plt.scatter(bank['year'], bank['X5'])
plt.title('Scatterplot of Year vs Inventory')
plt.xlabel('Year')
plt.ylabel('Inventory');


plt.figure(figsize=(8,5))
plt.scatter(bank['year'], bank['X6'])
plt.title('Scatterplot of Year vs Net Income')
plt.xlabel('Year')
plt.ylabel('Net Income');


plt.figure(figsize=(8,5))
plt.scatter(bank['year'], bank['X7'])
plt.title('Scatterplot of Year vs Total Receivables')
plt.xlabel('Year')
plt.ylabel('Total Receivables');


plt.figure(figsize=(8,5))
plt.scatter(bank['year'], bank['X8'])
plt.title('Scatterplot of Year vs Market value')
plt.xlabel('Year')
plt.ylabel('Market value');


plt.figure(figsize=(8,5))
plt.scatter(bank['year'], bank['X9'])
plt.title('Scatterplot of Year vs Net sales')
plt.xlabel('Year')
plt.ylabel('Net sales');


plt.figure(figsize=(8,5))
plt.scatter(bank['year'], bank['X10'])
plt.title('Scatterplot of Year vs Total assets')
plt.xlabel('Year')
plt.ylabel('Total assets');


plt.figure(figsize=(8,5))
plt.scatter(bank['year'], bank['X11'])
plt.title('Scatterplot of Year vs Total Long-term debt')
plt.xlabel('Year')
plt.ylabel('Total Long-term debt');


plt.figure(figsize=(8,5))
plt.scatter(bank['year'], bank['X12'])
plt.title('Scatterplot of Year vs EBIT')
plt.xlabel('Year')
plt.ylabel('EBIT');


plt.figure(figsize=(8,5))
plt.scatter(bank['year'], bank['X13'])
plt.title('Scatterplot of Year vs Gross Profit')
plt.xlabel('Year')
plt.ylabel('Gross Profit');


plt.figure(figsize=(8,5))
plt.scatter(bank['year'], bank['X14'])
plt.title('Scatterplot of Year vs Total Current Liabilities')
plt.xlabel('Year')
plt.ylabel('Total Current Liabilities');


plt.figure(figsize=(8,5))
plt.scatter(bank['year'], bank['X15'])
plt.title('Scatterplot of Year vs Retained Earnings')
plt.xlabel('Year')
plt.ylabel('Retained Earnings');


plt.figure(figsize=(8,5))
plt.scatter(bank['year'], bank['X16'])
plt.title('Scatterplot of Year vs Total Revenue')
plt.xlabel('Year')
plt.ylabel('Total Revenue');


plt.figure(figsize=(8,5))
plt.scatter(bank['year'], bank['X17'])
plt.title('Scatterplot of Year vs Total Liabilities')
plt.xlabel('Year')
plt.ylabel('Total Liabilities');


plt.figure(figsize=(8,5))
plt.scatter(bank['year'], bank['X18'])
plt.title('Scatterplot of Year vs Total Operating Expenses')
plt.xlabel('Year')
plt.ylabel('Total Operating Expenses');


plt.figure(figsize=(12,6))
sns.histplot(bank['status_label'])
plt.title('Distribution of Status Label');


plt.figure(figsize=(12,6))
sns.heatmap(data = bank.corr(numeric_only = True),
            annot = True,
            vmin = -1,
            vmax = 1,
           cmap = "coolwarm");
